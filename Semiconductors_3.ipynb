{
 "cells": [
  {
   "cell_type": "code",
   "execution_count": 1,
   "metadata": {},
   "outputs": [
    {
     "name": "stdout",
     "output_type": "stream",
     "text": [
      "Author        : S Monroe\n",
      "Version       : 3.8.3 (default, Jul  2 2020, 17:30:36) [MSC v.1916 64 bit (AMD64)]\n",
      "NumPy lib     : 1.18.5\n",
      "Encoding      : utf-8\n",
      "Timestamp     : 1692891011.5927854\n"
     ]
    }
   ],
   "source": [
    "from math import cos, sin, tan, acos, asin, atan, atan2, degrees, radians\n",
    "from numpy import reciprocal, pi, sqrt, angle, exp\n",
    "import numpy as np\n",
    "import time, sys\n",
    "\n",
    "#hextime=float.hex(time.time())\n",
    "\n",
    "# The foregoing is a clunky way to do this\n",
    "# Haven't spent a lot of time thinking through a more elegant solution\n",
    "\n",
    "def cosd(x):\n",
    "  return cos(radians(x))\n",
    "\n",
    "def sind(x):\n",
    "  return sin(radians(x))\n",
    "\n",
    "def tand(x):\n",
    "  return tan(radians(x))\n",
    "\n",
    "def acosd(x):\n",
    "  return degrees(acos(x))\n",
    "\n",
    "def asind(x):\n",
    "  return degrees(asin(x))\n",
    "\n",
    "def atand(x):\n",
    "  return degrees(atan(x))\n",
    "\n",
    "def atan2d(y, x):\n",
    "  return degrees(atan2(y, x))\n",
    "\n",
    "## Now define conversion functions:\n",
    "\n",
    "def P2R(radii, angles):\n",
    "    return radii * exp(1j*angles*(pi/180))\n",
    "\n",
    "def R2P(x):\n",
    "    return abs(x), angle(x, deg=True)\n",
    "\n",
    "\n",
    "\n",
    "print(\"Author        : S Monroe\")\n",
    "print(\"Version       :\",sys.version[0:100])\n",
    "print(\"NumPy lib     :\",np.version.version)\n",
    "print(\"Encoding      :\",sys.getdefaultencoding())\n",
    "print(\"Timestamp     :\",time.time())"
   ]
  },
  {
   "cell_type": "markdown",
   "metadata": {},
   "source": [
    "When an electric field, $\\vec E$, is applied an electron or a hole will accelerate according to "
   ]
  },
  {
   "cell_type": "markdown",
   "metadata": {},
   "source": [
    "$$Accel_e=\\frac{-q\\cdot \\vec E}{m_n}$$\n",
    "$$Accel_p=\\frac{-q\\cdot \\vec E}{m_p}$$"
   ]
  },
  {
   "cell_type": "markdown",
   "metadata": {},
   "source": [
    "To simplify an explanation of electron and hole motion in order to describe the motion itself with the laws classical particles, we must assign effective masses ($m_n$ and $m_p$) to them. Both are compared to the free electron mass $m_0$"
   ]
  },
  {
   "cell_type": "markdown",
   "metadata": {},
   "source": [
    "$$\\frac{m_n}{m_0}=0.26$$<br><br>\n",
    "$$\\frac{m_p}{m_0}=0.39$$"
   ]
  },
  {
   "cell_type": "markdown",
   "metadata": {},
   "source": [
    "The free electron $m_0$ has a mass of $9.10938E-31kg$"
   ]
  },
  {
   "cell_type": "code",
   "execution_count": 2,
   "metadata": {},
   "outputs": [],
   "source": [
    "m0=9.10938E-31"
   ]
  },
  {
   "cell_type": "markdown",
   "metadata": {},
   "source": [
    "Knowing the ratio of effective mass to free electron mass makes it easy to calculate the effective masses of each"
   ]
  },
  {
   "cell_type": "markdown",
   "metadata": {},
   "source": [
    "The electrons and holes in a crystal interact with a periodic coulombic field in the crystal. They \"surf\" over the periodic potential of the crystal and therefore $m_n$ and $m_p$ are not the same as the free electron mass. "
   ]
  },
  {
   "cell_type": "markdown",
   "metadata": {},
   "source": [
    "Of course, a complete description of the electrons in a crystal must be based on their wave characteristics not just their particle characteristics. The electron wave function is the solution of the three-dimensional Schroedinger wave equation:"
   ]
  },
  {
   "cell_type": "markdown",
   "metadata": {},
   "source": [
    "$$-\\frac{\\hbar}{2m_0}\\nabla^2\\psi+V(r)\\psi = E\\psi$$"
   ]
  },
  {
   "cell_type": "markdown",
   "metadata": {},
   "source": [
    "Where, $\\hbar=\\frac{h}{2\\pi}$<br>\n",
    "$m_0=9.10938 \\times 10^{-31} kg$ <br>\n",
    "$V(r)$ is the potential energy field which the crystal  presents to the electron in three dimensional space<br>\n",
    "$E$ is the energy of the electron<br>\n",
    "$\\psi$ is the wavefunction"
   ]
  },
  {
   "cell_type": "markdown",
   "metadata": {},
   "source": [
    "Such a description is beyond the scope of our class, and is only shown to demonstrate the abstraction level of the model we use to describe semiconductor function.  "
   ]
  },
  {
   "cell_type": "markdown",
   "metadata": {},
   "source": [
    "It's an obvious question to ask the question, \"if the masses are effective and different from the free electron what is the velocity of the electron or hole in silicon?\"  Glad you asked."
   ]
  },
  {
   "cell_type": "markdown",
   "metadata": {},
   "source": [
    "For our example, let's take the temperature to be $300K$, and calculate their velocities. "
   ]
  },
  {
   "cell_type": "code",
   "execution_count": 3,
   "metadata": {},
   "outputs": [],
   "source": [
    "T=300.0\n",
    "mn=0.26*m0\n",
    "mp=0.39*m0"
   ]
  },
  {
   "cell_type": "markdown",
   "metadata": {},
   "source": [
    "We know that kinetic energy is:"
   ]
  },
  {
   "cell_type": "markdown",
   "metadata": {},
   "source": [
    "$$KE=\\frac{1}{2}\\cdot m_n\\cdot v_{th}^2$$"
   ]
  },
  {
   "cell_type": "markdown",
   "metadata": {},
   "source": [
    "$$=\\frac{3}{2}kT$$"
   ]
  },
  {
   "cell_type": "markdown",
   "metadata": {},
   "source": [
    "Solving for vth ..."
   ]
  },
  {
   "cell_type": "markdown",
   "metadata": {},
   "source": [
    "$$v_{th}=\\sqrt{\\frac{3kT}{m_n}}$$"
   ]
  },
  {
   "cell_type": "code",
   "execution_count": 4,
   "metadata": {},
   "outputs": [
    {
     "name": "stdout",
     "output_type": "stream",
     "text": [
      "electron thermal velocity: 229050.79975355967 m/s\n"
     ]
    }
   ],
   "source": [
    "k=1.380649E-23\n",
    "vth_e=np.sqrt(3*k*T/mn)\n",
    "print(\"electron thermal velocity:\",vth_e,\"m/s\")"
   ]
  },
  {
   "cell_type": "code",
   "execution_count": 5,
   "metadata": {},
   "outputs": [
    {
     "name": "stdout",
     "output_type": "stream",
     "text": [
      "1308.836294492532\n"
     ]
    }
   ],
   "source": [
    "c=2.9979E8\n",
    "v=c/vth_e\n",
    "print(v)"
   ]
  },
  {
   "cell_type": "markdown",
   "metadata": {},
   "source": [
    "In other words, the electron in Si are moving about 1000 time slower than the speed of light in a vacuum.  We could do a similar calculation for holes.  Note that the velocity changes as a function of temperature. "
   ]
  }
 ],
 "metadata": {
  "kernelspec": {
   "display_name": "Python 3",
   "language": "python",
   "name": "python3"
  },
  "language_info": {
   "codemirror_mode": {
    "name": "ipython",
    "version": 3
   },
   "file_extension": ".py",
   "mimetype": "text/x-python",
   "name": "python",
   "nbconvert_exporter": "python",
   "pygments_lexer": "ipython3",
   "version": "3.8.3"
  }
 },
 "nbformat": 4,
 "nbformat_minor": 4
}
